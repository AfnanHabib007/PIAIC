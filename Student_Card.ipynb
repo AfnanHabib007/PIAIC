{
 "cells": [
  {
   "cell_type": "markdown",
   "metadata": {},
   "source": [
    "<h1>My Program<h1>"
   ]
  },
  {
   "cell_type": "code",
   "execution_count": 51,
   "metadata": {
    "scrolled": true
   },
   "outputs": [
    {
     "name": "stdout",
     "output_type": "stream",
     "text": [
      "Student name :Afnan\n",
      "Father name :HAbib\n",
      "1st Semester gpa :4\n",
      "2nd Semester gpa :4\n",
      "3rd Semester gpa :4\n",
      "4th Semester gpa :4\n",
      "5th Semester gpa :4\n",
      "6th Semester gpa :4\n",
      "7th Semester gpa :4\n",
      "8th Semester gpa :4\n"
     ]
    }
   ],
   "source": [
    "\n",
    "s_name = input(\"Student name :\")\n",
    "f_name = input(\"Father name :\")\n",
    "first_gpa = float(input(\"1st Semester gpa :\"))\n",
    "second_gpa = float(input(\"2nd Semester gpa :\"))\n",
    "third_gpa = float(input(\"3rd Semester gpa :\"))\n",
    "fourth_gpa = float(input(\"4th Semester gpa :\"))\n",
    "fifth_gpa = float(input(\"5th Semester gpa :\"))\n",
    "sixth_gpa = float(input(\"6th Semester gpa :\"))\n",
    "seventh_gpa = float(input(\"7th Semester gpa :\"))\n",
    "eight_gpa = float(input(\"8th Semester gpa :\"))\n",
    "\n"
   ]
  },
  {
   "cell_type": "code",
   "execution_count": 62,
   "metadata": {
    "scrolled": true
   },
   "outputs": [
    {
     "name": "stdout",
     "output_type": "stream",
     "text": [
      "(4.0, 4.0, 4.0, 4.0, 4.0, 4.0, 4.0, 4.0)\n"
     ]
    }
   ],
   "source": [
    "list= first_gpa,second_gpa,third_gpa,fourth_gpa,fifth_gpa,sixth_gpa,seventh_gpa,eight_gpa\n",
    "print(list)\n",
    "\n",
    "cgpa = sum(list)/8\n",
    "Max = max(list)\n",
    "Min = min(list)\n",
    "\n"
   ]
  },
  {
   "cell_type": "code",
   "execution_count": 63,
   "metadata": {},
   "outputs": [
    {
     "name": "stdout",
     "output_type": "stream",
     "text": [
      "\n",
      "Student Name: Afnan\n",
      "Father Name: HAbib\n",
      "1st Semester sgpa: 4.0\n",
      "2nd Semester sgpa: 4.0\n",
      "3rd Semester sgpa: 4.0\n",
      "4th Semester sgpa: 4.0\n",
      "5th Semester sgpa: 4.0\n",
      "6th Semester sgpa: 4.0\n",
      "7th Semester sgpa: 4.0\n",
      "8th Semester sgpa: 4.0\n",
      "Cgpa: 4\n",
      "Minimum Sgpa: 4.0\n",
      "Maxmum Cgpa: 4.0\n",
      "\n"
     ]
    }
   ],
   "source": [
    "\n",
    "    message = \"\"\"\n",
    "    Student Name: {}\n",
    "    Father Name: {}\n",
    "    1st Semester sgpa: {}\n",
    "    2nd Semester sgpa: {}\n",
    "    3rd Semester sgpa: {}\n",
    "    4th Semester sgpa: {}\n",
    "    5th Semester sgpa: {}\n",
    "    6th Semester sgpa: {}\n",
    "    7th Semester sgpa: {}\n",
    "    8th Semester sgpa: {}\n",
    "    Cgpa: {}\n",
    "    Minimum Sgpa: {}\n",
    "    Maxmum Cgpa: {}\n",
    "    \"\"\"\n",
    "message  = message.format(s_name,f_name,first_gpa,second_gpa,third_gpa,fourth_gpa,fifth_gpa,sixth_gpa,seventh_gpa,eight_gpa,round(cgpa),Min,Max)\n",
    "print(message)\n"
   ]
  }
 ],
 "metadata": {
  "kernelspec": {
   "display_name": "Python 3",
   "language": "python",
   "name": "python3"
  },
  "language_info": {
   "codemirror_mode": {
    "name": "ipython",
    "version": 3
   },
   "file_extension": ".py",
   "mimetype": "text/x-python",
   "name": "python",
   "nbconvert_exporter": "python",
   "pygments_lexer": "ipython3",
   "version": "3.7.3"
  }
 },
 "nbformat": 4,
 "nbformat_minor": 2
}
